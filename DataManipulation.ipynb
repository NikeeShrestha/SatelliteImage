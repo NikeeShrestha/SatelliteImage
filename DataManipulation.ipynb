{
 "cells": [
  {
   "cell_type": "code",
   "execution_count": 1,
   "metadata": {},
   "outputs": [],
   "source": [
    "import pandas as pd"
   ]
  },
  {
   "cell_type": "code",
   "execution_count": 7,
   "metadata": {},
   "outputs": [
    {
     "data": {
      "text/plain": [
       "Index(['file', 'Red', 'Green', 'Blue', 'NIR', 'RedEdge', 'DeepBlue', 'field',\n",
       "       'range', 'row', 'PC1', 'PC2', 'PC3', 'plantDensity', 'combineYield',\n",
       "       'yieldPerAcre', 'totalStandCount', 'daysToAnthesis', 'GDDToAnthesis',\n",
       "       'daysToSilk', 'GDDToSilk', 'percentMoisture', 'percentStarch',\n",
       "       'percentProtein', 'percentOil', 'percentFiber', 'percentAsh',\n",
       "       'percentLodging', 'flagLeafHeight'],\n",
       "      dtype='object')"
      ]
     },
     "execution_count": 7,
     "metadata": {},
     "output_type": "execute_result"
    }
   ],
   "source": [
    "Df= pd.read_csv('Data/HipsData_TP2_CrawFordsville.csv')\n",
    "Df.head()\n",
    "Df.columns"
   ]
  },
  {
   "cell_type": "code",
   "execution_count": 8,
   "metadata": {},
   "outputs": [],
   "source": [
    "Df=Df.iloc[:,[0,15]] \n",
    "Df.head()\n",
    "Df.to_csv('Data/HipsData_TP2_CrawFordsville_yield.csv', index=False)\n"
   ]
  }
 ],
 "metadata": {
  "kernelspec": {
   "display_name": "Python 3 (ipykernel)",
   "language": "python",
   "name": "python3"
  },
  "language_info": {
   "codemirror_mode": {
    "name": "ipython",
    "version": 3
   },
   "file_extension": ".py",
   "mimetype": "text/x-python",
   "name": "python",
   "nbconvert_exporter": "python",
   "pygments_lexer": "ipython3",
   "version": "3.11.4"
  }
 },
 "nbformat": 4,
 "nbformat_minor": 4
}
